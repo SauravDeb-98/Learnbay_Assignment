{
  "cells": [
    {
      "cell_type": "markdown",
      "metadata": {
        "id": "view-in-github",
        "colab_type": "text"
      },
      "source": [
        "<a href=\"https://colab.research.google.com/github/SauravDeb-98/Learnbay_Assignment/blob/main/String_Assignment_Saurav_Deb.ipynb\" target=\"_parent\"><img src=\"https://colab.research.google.com/assets/colab-badge.svg\" alt=\"Open In Colab\"/></a>"
      ]
    },
    {
      "cell_type": "code",
      "execution_count": 5,
      "metadata": {
        "id": "OG2JlAXx3VoJ",
        "colab": {
          "base_uri": "https://localhost:8080/"
        },
        "outputId": "2df5e625-0cc2-43e0-99f7-2bc0adef7c25"
      },
      "outputs": [
        {
          "output_type": "stream",
          "name": "stdout",
          "text": [
            "<class 'str'> 140058373603120\n"
          ]
        }
      ],
      "source": [
        "#Declare a string and store it in a variable.\n",
        "s= 'Saurav'\n",
        "\n",
        "#Check the type and print the id of the same.\n",
        "print(type(s), id(s))\n",
        "\n",
        "\n"
      ]
    },
    {
      "cell_type": "code",
      "execution_count": null,
      "metadata": {
        "id": "wPxm3G8W3dqN"
      },
      "outputs": [],
      "source": [
        "#Which are valid/invalid strings\n",
        "1. 'This is Python class'\n",
        "valid\n",
        "\n",
        "2. \"This is Python class\"\n",
        "valid\n",
        "\n",
        "3. '''This is Python class'''\n",
        "valid\n",
        "\n",
        "4. \"\"\"This is Python class\"\"\"\n",
        "valid\n",
        "\n",
        "5. 'This is Python's class'\n",
        "invalid\n",
        "\n",
        "6. \"Learnbay provides \"Java\", \"Python\" classes\"\n",
        "invalid\n",
        "\n",
        "7. \"Learnbay provides 'Java', 'Python' classes\"\n",
        "valid\n",
        "\n",
        "8. \"This is Python's class\"\n",
        "valid\n",
        "\n",
        "9. \"\"\"Learnbay provides \"Java\", \"Python\" classes\"\"\"\n",
        "valid\n",
        "\n",
        "10. '''Learnbay provides \"Java\", \"Python\" classes'''\n",
        "valid\n",
        "\n",
        "11. '''Learnbay provides\n",
        "\"Java\", \"Python\"\n",
        "classes'''\n",
        "valid\n",
        "\n",
        "12. 'This is\n",
        "Python\n",
        "class'\n",
        "invalid\n"
      ]
    },
    {
      "cell_type": "code",
      "execution_count": 12,
      "metadata": {
        "id": "Drx8fhT23g7a",
        "colab": {
          "base_uri": "https://localhost:8080/"
        },
        "outputId": "38a0acfc-d759-4de9-bf21-76711b5dd70f"
      },
      "outputs": [
        {
          "output_type": "stream",
          "name": "stdout",
          "text": [
            "66\n",
            "False\n",
            "<class 'str'>\n"
          ]
        }
      ],
      "source": [
        "#Write the code to get the output mentioned below print statement\n",
        "my_str = \"Although that way may not be obvious at first unless you're Dutch.\"\n",
        "my_str1 = \"Although that way may not be obvious at first unless you're Dutch.\"\n",
        "\n",
        "print(len(my_str))\n",
        "#output:- The length of my_str is 66\n",
        "\n",
        "if id(my_str)==id(my_str1):\n",
        "  print(\"True\")\n",
        "else:\n",
        "  print(\"False\")\n",
        "#output:- id of my_str and my_str1 is same? - True\n",
        "\n",
        "print(type(my_str))\n",
        "#output:- Type of my_str is: str"
      ]
    },
    {
      "cell_type": "code",
      "execution_count": 8,
      "metadata": {
        "id": "403e-I3A3lCO",
        "colab": {
          "base_uri": "https://localhost:8080/"
        },
        "outputId": "190a3d1e-317d-498b-9b04-e4b267d31c32"
      },
      "outputs": [
        {
          "output_type": "stream",
          "name": "stdout",
          "text": [
            "A\n",
            "67\n",
            " \n",
            "h\n",
            "67\n",
            "8\n"
          ]
        }
      ],
      "source": [
        "#Indexing\n",
        "my_str = \"Although 8 that way may not be obvious at first unless you're Dutch\"\n",
        "#Write the code to get the output,instructions are mentioned below print statement. use indexing\n",
        "\n",
        "print(my_str[0])\n",
        "#output:- The first character in my_str is: A\n",
        "#Note:- Use positive indexing\n",
        "\n",
        "print(len(my_str))\n",
        "#output:- The first character in my_str is: A\n",
        "#Note:- Use len() function.\n",
        "\n",
        "print(my_str[10])\n",
        "#output:- The character at index 10 in my_str is: ' '\n",
        "#Note:- Use positive indexing\n",
        "\n",
        "print(my_str[-1])\n",
        "#output:- The last character in my_str is: h\n",
        "#Note:- Use negative indexing.\n",
        "\n",
        "print(len(my_str))\n",
        "#output:- The last character in my_str is: h\n",
        "#Note:- Use len() function.\n",
        "\n",
        "print(my_str[9])\n",
        "#output:- The character in my_str is: 8\n",
        "#Note:- Use positive index"
      ]
    },
    {
      "cell_type": "code",
      "source": [
        "my_str = \"Although 8 that way may not be obvious at first unless you're Dutch\"\n",
        "\n",
        "for i,j in enumerate(my_str):\n",
        "  print(i,j)"
      ],
      "metadata": {
        "id": "2w2n3pLXE3I5",
        "colab": {
          "base_uri": "https://localhost:8080/"
        },
        "outputId": "5384444c-2bb8-4494-9236-53276eafdbb4"
      },
      "execution_count": 13,
      "outputs": [
        {
          "output_type": "stream",
          "name": "stdout",
          "text": [
            "0 A\n",
            "1 l\n",
            "2 t\n",
            "3 h\n",
            "4 o\n",
            "5 u\n",
            "6 g\n",
            "7 h\n",
            "8  \n",
            "9 8\n",
            "10  \n",
            "11 t\n",
            "12 h\n",
            "13 a\n",
            "14 t\n",
            "15  \n",
            "16 w\n",
            "17 a\n",
            "18 y\n",
            "19  \n",
            "20 m\n",
            "21 a\n",
            "22 y\n",
            "23  \n",
            "24 n\n",
            "25 o\n",
            "26 t\n",
            "27  \n",
            "28 b\n",
            "29 e\n",
            "30  \n",
            "31 o\n",
            "32 b\n",
            "33 v\n",
            "34 i\n",
            "35 o\n",
            "36 u\n",
            "37 s\n",
            "38  \n",
            "39 a\n",
            "40 t\n",
            "41  \n",
            "42 f\n",
            "43 i\n",
            "44 r\n",
            "45 s\n",
            "46 t\n",
            "47  \n",
            "48 u\n",
            "49 n\n",
            "50 l\n",
            "51 e\n",
            "52 s\n",
            "53 s\n",
            "54  \n",
            "55 y\n",
            "56 o\n",
            "57 u\n",
            "58 '\n",
            "59 r\n",
            "60 e\n",
            "61  \n",
            "62 D\n",
            "63 u\n",
            "64 t\n",
            "65 c\n",
            "66 h\n"
          ]
        }
      ]
    },
    {
      "cell_type": "code",
      "execution_count": 14,
      "metadata": {
        "id": "NK_QdtsM3luu",
        "colab": {
          "base_uri": "https://localhost:8080/"
        },
        "outputId": "125e7079-ec15-4d1b-a818-9b70fc304c7e"
      },
      "outputs": [
        {
          "output_type": "stream",
          "name": "stdout",
          "text": [
            "Although that way may not be obvious at first unless you're Dutch.\n",
            "Although that way may not be obvious at first unless you're Dutch.\n",
            "Although that way may not be obvious at first unless you're Dutch.\n",
            "Although that way may not be obvious at first unless you're Dutch.\n",
            "\n",
            "Atog htwymyntb biu tfrtuls o'eDth\n",
            "Ahgttam tebo  r lsorDc\n",
            ".hctuD er'uoy sselnu tsrif ta suoivbo eb ton yam yaw taht hguohtlA\n",
            "\n",
            ".hctuD er'uoy sselnu tsrif ta suoivbo eb ton yam yaw taht hguohtlA\n",
            ".cu ruysen si asovoe o a a athuhl\n",
            ".cu ruysen si asovoe o a a athuhl\n",
            "\n",
            "yaw ta\n",
            "ess you\n"
          ]
        }
      ],
      "source": [
        "\n",
        "#Slicing\n",
        "my_str = \"Although that way may not be obvious at first unless you're Dutch.\"\n",
        "#Write the code to get the output,instructions are mentioned below print statement. use slicing\n",
        "print(my_str[:])\n",
        "#output:- You have sliced: Although that way may not be obvious at first unless you're Dutch.Without begin, end and step\n",
        "\n",
        "\n",
        "print(my_str[0: len(my_str)])\n",
        "#output:- You have sliced: Although that way may not be obvious at first unless you're Dutch.with begin as 0 end using len and without step\n",
        "\n",
        "\n",
        "print(my_str[::1])\n",
        "#output:- You have sliced: Although that way may not be obvious at first unless you're Dutch.without begin and end but using step\n",
        "\n",
        "\n",
        "print(my_str[0:len(my_str):1])\n",
        "#output:- You have sliced: Although that way may not be obvious at first unless you're Dutch.With begin, end and step\n",
        "\n",
        "\n",
        "print(my_str[0:len(my_str):-len(my_str)])\n",
        "#output:- You have sliced:   .with using begin and end using postive values and step as negative values.\n",
        "#Slicing command should print empty string.\n",
        "\n",
        "\n",
        "print(my_str[::2])\n",
        "#output:- You have sliced: Atog htwymyntb biu tfrtuls o'eDth\n",
        "\n",
        "\n",
        "\n",
        "print(my_str[::3])\n",
        "#output:- You have sliced: Ahgttam tebo  r lsorDc\n",
        "\n",
        "\n",
        "print(my_str[::-1])\n",
        "#output:- You have sliced: .hctuD er'uoy sselnu tsrif ta suoivbo eb ton yam yaw taht hguohtlA. Use only step\n",
        "\n",
        "\n",
        "print()\n",
        "#output:- You have sliced: .hctuD er'uoy sselnu tsrif ta suoivbo eb ton yam yaw taht hguohtlA. Use begin end and step.\n",
        "print(my_str[-1:-len(my_str)-1:-1])\n",
        "\n",
        "print(my_str[::-2])\n",
        "#output:- You have sliced: .cu ruysen si asovoe o a a athuhl. use only step\n",
        "\n",
        "\n",
        "print(my_str[-1:-len(my_str)-1:-2])\n",
        "#output:- You have sliced: .cu ruysen si asovoe o a a athuhl. use begin, end and step.\n",
        "\n",
        "\n",
        "print(my_str[10:17:-1])\n",
        "#What will be the output? - Empty\n",
        "a= my_str[::-1]\n",
        "print(a[-12:-18:-1][::-1])\n",
        "#output:- You have sliced: yaw ta, Using begin, end and step.\n",
        "\n",
        "print(my_str[49:56:1])\n",
        "#output:- You have sliced: ess you. Using begin, end and step.\n"
      ]
    },
    {
      "cell_type": "code",
      "execution_count": 15,
      "metadata": {
        "id": "qUSYa5x-3n5j",
        "colab": {
          "base_uri": "https://localhost:8080/"
        },
        "outputId": "5f4cc677-d9da-47d0-8ca5-90a9326276c9"
      },
      "outputs": [
        {
          "output_type": "stream",
          "name": "stdout",
          "text": [
            "LearnbayPython\n",
            "LearnbayLearnbayLearnbay\n"
          ]
        }
      ],
      "source": [
        "#Basic operation on string\n",
        "str1 = 'Learnbay'\n",
        "str2 = 'Python'\n",
        "\n",
        "#Write the code to get the output,instructions are mentioned below.\n",
        "#Output is: Learnbay Python\n",
        "print(str1+str2)\n",
        "\n",
        "\n",
        "#Error: TypeError: can only concatenate str (not \"int\") to str\n",
        "\n",
        "\n",
        "#Error: TypeError: can only concatenate str (not \"float\") to str\n",
        "\n",
        "\n",
        "\n",
        "#Find below Output\n",
        "#Output is: LearnbayLearnbayLearnbay\n",
        "print(str1*3)\n",
        "\n",
        "\n",
        "#Error: TypeError: can't multiply sequence by non-int of type 'float'\n",
        "\n",
        "\n",
        "#Error: TypeError: can't multiply sequence by non-int of type 'str'\n",
        "\n"
      ]
    },
    {
      "cell_type": "code",
      "execution_count": 16,
      "metadata": {
        "id": "gREffmnr3s-p",
        "colab": {
          "base_uri": "https://localhost:8080/"
        },
        "outputId": "87430334-77bf-4d9e-8b3b-52873da81a97"
      },
      "outputs": [
        {
          "output_type": "stream",
          "name": "stdout",
          "text": [
            "True\n",
            "False\n",
            "True\n",
            "True\n",
            "False\n"
          ]
        }
      ],
      "source": [
        "#Find below Output\n",
        "str1 = 'Python'\n",
        "str2 = 'Python'\n",
        "str3 = 'Python$'\n",
        "str4 = 'Python$'\n",
        "\n",
        "#print True by using identity operator between str1 and str2\n",
        "if id(str1) == id(str2):\n",
        "  print(\"True\")\n",
        "\n",
        "\n",
        "#print False by using identity operator between str1 and str3\n",
        "print(id(str1) == id(str3))\n",
        "\n",
        "\n",
        "\n",
        "#print False by using identity operator between str4 and str3\n",
        "if id(str4) == id(str3):\n",
        "  print(\"False\")\n",
        "\n",
        "\n",
        "#Check if P is available in str1 and print True by using membership operator\n",
        "print('P' in str1)\n",
        "\n",
        "\n",
        "#Check if $ is available in str3 and print True by using membership operator\n",
        "print(\"$\" in str3)\n",
        "\n",
        "\n",
        "#Check if N is available in str3 and print False by using membership operator\n",
        "print(\"N\" in str3)\n",
        "\n",
        "\n"
      ]
    },
    {
      "cell_type": "code",
      "execution_count": 17,
      "metadata": {
        "id": "QNFjxDr73u2H",
        "colab": {
          "base_uri": "https://localhost:8080/",
          "height": 244
        },
        "outputId": "14776ca6-2f8c-4f59-bffa-f27c6d6a3cd2"
      },
      "outputs": [
        {
          "output_type": "error",
          "ename": "TypeError",
          "evalue": "ignored",
          "traceback": [
            "\u001b[0;31m---------------------------------------------------------------------------\u001b[0m",
            "\u001b[0;31mTypeError\u001b[0m                                 Traceback (most recent call last)",
            "\u001b[0;32m<ipython-input-17-a27ea9646a5f>\u001b[0m in \u001b[0;36m<cell line: 5>\u001b[0;34m()\u001b[0m\n\u001b[1;32m      3\u001b[0m \u001b[0;31m#write the code to replace 'Python' with 'Java' and you should get below error.\u001b[0m\u001b[0;34m\u001b[0m\u001b[0;34m\u001b[0m\u001b[0m\n\u001b[1;32m      4\u001b[0m \u001b[0;31m#TypeError: 'str' object does not support item assignment.\u001b[0m\u001b[0;34m\u001b[0m\u001b[0;34m\u001b[0m\u001b[0m\n\u001b[0;32m----> 5\u001b[0;31m \u001b[0mstr1\u001b[0m\u001b[0;34m[\u001b[0m\u001b[0;36m8\u001b[0m\u001b[0;34m:\u001b[0m\u001b[0;36m13\u001b[0m\u001b[0;34m]\u001b[0m\u001b[0;34m=\u001b[0m \u001b[0;34m\"Java\"\u001b[0m\u001b[0;34m\u001b[0m\u001b[0;34m\u001b[0m\u001b[0m\n\u001b[0m\u001b[1;32m      6\u001b[0m \u001b[0mprint\u001b[0m\u001b[0;34m(\u001b[0m\u001b[0mstr1\u001b[0m\u001b[0;34m)\u001b[0m\u001b[0;34m\u001b[0m\u001b[0;34m\u001b[0m\u001b[0m\n\u001b[1;32m      7\u001b[0m \u001b[0;34m\u001b[0m\u001b[0m\n",
            "\u001b[0;31mTypeError\u001b[0m: 'str' object does not support item assignment"
          ]
        }
      ],
      "source": [
        "#Complete the below code\n",
        "str1 = 'This is Python class'\n",
        "#write the code to replace 'Python' with 'Java' and you should get below error.\n",
        "#TypeError: 'str' object does not support item assignment.\n",
        "str1[8:13]= \"Java\"\n",
        "print(str1)\n",
        "\n",
        "\n"
      ]
    },
    {
      "cell_type": "code",
      "execution_count": 18,
      "metadata": {
        "id": "-JgFbPmn3w3D",
        "colab": {
          "base_uri": "https://localhost:8080/"
        },
        "outputId": "6623f89c-417a-4731-950e-c0dacf617624"
      },
      "outputs": [
        {
          "output_type": "stream",
          "name": "stdout",
          "text": [
            "True\n",
            "True\n",
            "False\n",
            "False\n"
          ]
        }
      ],
      "source": [
        "str1 = 'A'\n",
        "str2 = 'A'\n",
        "#Compare str1 and str2 and print True using comparison operator\n",
        "print(str1==str2)\n",
        "\n",
        "\n",
        "#Compare str1 and str2 and print True using equality operator\n",
        "print(str1==str2)\n",
        "\n",
        "\n",
        "#Compare str1 and str2 and print False using equality operator\n",
        "print(str1!=str2)\n",
        "\n",
        "\n",
        "#Compare str1 and str2 and print False using comparison operator\n",
        "print(str1!=str2)\n",
        "\n"
      ]
    },
    {
      "cell_type": "code",
      "execution_count": 19,
      "metadata": {
        "id": "fJ46_L-53yhW",
        "colab": {
          "base_uri": "https://localhost:8080/"
        },
        "outputId": "e911cf04-3a24-43d9-9e00-34200f1218be"
      },
      "outputs": [
        {
          "output_type": "stream",
          "name": "stdout",
          "text": [
            "True\n",
            "True\n",
            "False\n",
            "False\n"
          ]
        }
      ],
      "source": [
        "str1 = 'A'\n",
        "str2 = 'a'\n",
        "#Compare str1 and str2 and print True using comparison operator\n",
        "print(str1<=str2)\n",
        "\n",
        "\n",
        "#Compare str1 and str2 and print True using equality operator\n",
        "print(str1!=str2)\n",
        "\n",
        "\n",
        "#Compare str1 and str2 and print False using equality operator\n",
        "print(str1==str2)\n",
        "\n",
        "\n",
        "#Compare str1 and str2 and print False using comparison operator\n",
        "print(str1>str2)\n",
        "\n"
      ]
    },
    {
      "cell_type": "code",
      "execution_count": 20,
      "metadata": {
        "id": "e-Lr9va330gi",
        "colab": {
          "base_uri": "https://localhost:8080/"
        },
        "outputId": "8b92bd39-be69-434a-9705-d02eefe1c832"
      },
      "outputs": [
        {
          "output_type": "stream",
          "name": "stdout",
          "text": [
            "True\n",
            "True\n",
            "False\n"
          ]
        }
      ],
      "source": [
        "str1 = 'A'\n",
        "str2 = '65'\n",
        "#Compare str1 and str2 using comparison operator and it should give below error.\n",
        "#Error: TypeError: '>=' not supported between instances of 'str' and 'int'\n",
        "print(str1>=str2)\n",
        "\n",
        "#Compare str1 and str2 and print True using equality operator\n",
        "print(str1!=str2)\n",
        "\n",
        "\n",
        "#Compare str1 and str2 and print False using equality operator\n",
        "print(str1==str2)\n",
        "\n"
      ]
    },
    {
      "cell_type": "code",
      "execution_count": 21,
      "metadata": {
        "id": "JO04jmpN32Im",
        "colab": {
          "base_uri": "https://localhost:8080/"
        },
        "outputId": "7cc4639d-93cd-4fb0-c89d-3c83a11bd8bf"
      },
      "outputs": [
        {
          "output_type": "stream",
          "name": "stdout",
          "text": [
            "True\n",
            "True\n",
            "False\n",
            "False\n"
          ]
        }
      ],
      "source": [
        "str1 = 'Python'\n",
        "str2 = 'Python'\n",
        "#Compare str1 and str2 and print True using comparison operator\n",
        "print(str1>=str2)\n",
        "\n",
        "\n",
        "#Compare str1 and str2 and print True using equality operator\n",
        "print(str1==str2)\n",
        "\n",
        "#Compare str1 and str2 and print False using equality operator\n",
        "print(str1!=str2)\n",
        "\n",
        "#Compare str1 and str2 and print False using comparison operator\n",
        "print(str1>str2)\n",
        "\n"
      ]
    },
    {
      "cell_type": "code",
      "execution_count": 22,
      "metadata": {
        "id": "nmVAYYC_35ip",
        "colab": {
          "base_uri": "https://localhost:8080/"
        },
        "outputId": "a7a6a379-dedd-4334-a99c-decc5bbbffe9"
      },
      "outputs": [
        {
          "output_type": "stream",
          "name": "stdout",
          "text": [
            "True\n",
            "True\n",
            "False\n",
            "False\n"
          ]
        }
      ],
      "source": [
        "str1 = 'Python'\n",
        "str2 = 'python'\n",
        "#Compare str1 and str2 and print True using comparison operator\n",
        "print(str1<str2)\n",
        "\n",
        "\n",
        "#Compare str1 and str2 and print True using equality operator\n",
        "print(str1!=str2)\n",
        "\n",
        "\n",
        "#Compare str1 and str2 and print False using equality operator\n",
        "print(str1==str2)\n",
        "\n",
        "\n",
        "#Compare str1 and str2 and print False using comparison operator\n",
        "print(str1>=str2)\n",
        "\n"
      ]
    },
    {
      "cell_type": "code",
      "execution_count": 23,
      "metadata": {
        "id": "7ulv5ith37OJ",
        "colab": {
          "base_uri": "https://localhost:8080/"
        },
        "outputId": "15b280ea-4bf9-47d8-fc24-9dd836c7d656"
      },
      "outputs": [
        {
          "output_type": "stream",
          "name": "stdout",
          "text": [
            "\n",
            "Python\n",
            "False\n",
            "True\n"
          ]
        }
      ],
      "source": [
        "a = 'Python'\n",
        "b = ''\n",
        "\n",
        "#Apply logical opereators (and, or & not) on above string values and observe the output.\n",
        "print(a and b)\n",
        "print(a or b)\n",
        "print(not a)\n",
        "print(not b)\n"
      ]
    },
    {
      "cell_type": "code",
      "execution_count": 24,
      "metadata": {
        "id": "Yg_gsZBL383n",
        "colab": {
          "base_uri": "https://localhost:8080/"
        },
        "outputId": "90860701-0c6f-4104-ae5b-0d1c2a3f94e1"
      },
      "outputs": [
        {
          "output_type": "stream",
          "name": "stdout",
          "text": [
            "\n",
            "\n",
            "True\n",
            "True\n"
          ]
        }
      ],
      "source": [
        "a = ''\n",
        "b = ''\n",
        "\n",
        "#Apply logical opereators (and, or & not) on above string values and observe the output.\n",
        "print(a and b)\n",
        "print(a or b)\n",
        "print(not a)\n",
        "print(not b)"
      ]
    },
    {
      "cell_type": "code",
      "execution_count": 25,
      "metadata": {
        "id": "cIWkP9Hf3-q5",
        "colab": {
          "base_uri": "https://localhost:8080/"
        },
        "outputId": "fd49c262-b256-4fb4-fd34-014e8850a2c5"
      },
      "outputs": [
        {
          "output_type": "stream",
          "name": "stdout",
          "text": [
            "learnbay\n",
            "Python\n",
            "False\n",
            "False\n"
          ]
        }
      ],
      "source": [
        "a = 'Python'\n",
        "b = 'learnbay'\n",
        "\n",
        "#Apply logical opereators (and, or & not) on above string values and observe the output.\n",
        "print(a and b)\n",
        "print(a or b)\n",
        "print(not a)\n",
        "print(not b)"
      ]
    },
    {
      "cell_type": "code",
      "execution_count": null,
      "metadata": {
        "id": "Y0Ot_E704AX5"
      },
      "outputs": [],
      "source": [
        "my_str = \"Although 8 that way may not be obvious at first unless you're Dutch\"\n",
        "\n",
        "#Write the code to get the total count of 't' in above string. Use find() and index() method.\n",
        "print(my_str.count('t'))\n",
        "#answer = 7\n",
        "\n",
        "\n",
        "#Write the code to get the index of '8' in my_str. Use find() and index() method.\n",
        "print(my_str.find('8'))\n",
        "#answer =9\n",
        "\n",
        "\n",
        "#What will be the output of below code?\n",
        "print(my_str.find('the'))\n",
        "#answer = -1\n",
        "\n",
        "\n",
        "print(my_str.index('the'))\n",
        "#answer- substring not found\n",
        "\n",
        "\n",
        "print(my_str.find('t', 9, 15))\n",
        "#answer= 11\n",
        "\n",
        "\n",
        "print(my_str.rfind('u'))\n",
        "#answer = 63\n",
        "\n",
        "\n",
        "print(my_str.rindex('u'))\n",
        "#answer = 63\n",
        "\n"
      ]
    },
    {
      "cell_type": "code",
      "execution_count": 27,
      "metadata": {
        "id": "Gommq59Q4CMi",
        "colab": {
          "base_uri": "https://localhost:8080/"
        },
        "outputId": "54687221-1730-4484-8781-806d849f399e"
      },
      "outputs": [
        {
          "output_type": "stream",
          "name": "stdout",
          "text": [
            "Python\n",
            "Python\n",
            "Python\n"
          ]
        }
      ],
      "source": [
        "#W A P which applies strip() method if any string, which will be taken from user, starts and ends with space, or applies\n",
        "#rrstrip() method if that string only ends with space or applies lstrip() method if that string only starts with a space.\n",
        "\n",
        "#For example:-\n",
        "#input:- '    Python   '\n",
        "#output:- 'Python'\n",
        "input= '    Python   '\n",
        "print(input.strip())\n",
        "\n",
        "#input:- '    Python'\n",
        "input='    Python'\n",
        "print(input.lstrip())\n",
        "#output:- 'Python'\n",
        "\n",
        "#input:- 'Python   '\n",
        "input= 'Python   '\n",
        "print(input.rstrip())\n",
        "#output:- 'Python'"
      ]
    },
    {
      "cell_type": "code",
      "execution_count": 28,
      "metadata": {
        "id": "9IUy-cpS4Dtt",
        "colab": {
          "base_uri": "https://localhost:8080/"
        },
        "outputId": "17a67fb7-7a3b-4925-fe85-dad0a2801179"
      },
      "outputs": [
        {
          "output_type": "stream",
          "name": "stdout",
          "text": [
            "ALTHOUGH 8 THAT WAY MAY NOT BE OBVIOUS AT FIRST UNLESS YOU'RE DUTCH\n",
            "although 8 that way may not be obvious at first unless you're dutch\n",
            "aLTHOUGH 8 THAT WAY MAY NOT BE OBVIOUS AT FIRST UNLESS YOU'RE dUTCH\n"
          ]
        }
      ],
      "source": [
        "my_str = \"Although 8 that way may not be obvious at first unless you're Dutch\"\n",
        "\n",
        "#Write the code to convert all alphabets in my_str into upper case.\n",
        "print(my_str.upper())\n",
        "\n",
        "#Write the code to convert all alphabets in my_str into lower case.\n",
        "print(my_str.lower())\n",
        "\n",
        "#Write the code to swap the cases of all alphabets in my_str.(lower to upper and upper to lower)\n",
        "print(my_str.swapcase())\n",
        "\n"
      ]
    },
    {
      "cell_type": "code",
      "execution_count": 4,
      "metadata": {
        "id": "-BjS-z674HKW",
        "colab": {
          "base_uri": "https://localhost:8080/"
        },
        "outputId": "b73b8549-dd35-4ddf-b2dd-67dcb65494d5"
      },
      "outputs": [
        {
          "output_type": "stream",
          "name": "stdout",
          "text": [
            "Enter string: sami\n",
            "Sami\n"
          ]
        }
      ],
      "source": [
        "#Write the code which takes one string from user and if it starts with small case letter then convert it to corresponding\n",
        "#capital letter otherwise if starts with capital letters then convert first character of every word in that string into capital\n",
        "\n",
        "new= input(\"Enter string: \")\n",
        "\n",
        "if new.istitle():\n",
        "  print(new)\n",
        "else:\n",
        "  print(new.title())"
      ]
    },
    {
      "cell_type": "code",
      "execution_count": 29,
      "metadata": {
        "id": "-MCuDy5J4JQS",
        "colab": {
          "base_uri": "https://localhost:8080/"
        },
        "outputId": "65136ae4-7d81-43a9-c47f-6e45a312d20d"
      },
      "outputs": [
        {
          "output_type": "stream",
          "name": "stdout",
          "text": [
            "False\n",
            "False\n",
            "True\n",
            "False\n",
            "False\n",
            "False\n",
            "False\n",
            "False\n"
          ]
        }
      ],
      "source": [
        "#Take a string from user and check if it is:-\n",
        "#     1. alphanumeric\n",
        "#     2. alphabets\n",
        "#     3. digit\n",
        "#     4. all letters are in lower case\n",
        "#     5. all letters are in upper case\n",
        "#     6. in title case\n",
        "#     7. a space character\n",
        "#     8. numeric\n",
        "#     9. all number elements in string are decimal\n",
        "\n",
        "a= ' hello world 98 @'\n",
        "print(a.isalnum())\n",
        "print(a.isdigit())\n",
        "print(a.islower())\n",
        "print(a.isupper())\n",
        "print(a.istitle())\n",
        "print(a.isspace())\n",
        "print(a.isnumeric())\n",
        "print(a.isdecimal())"
      ]
    },
    {
      "cell_type": "code",
      "source": [
        "#W A P which takes a string as an input and prints True if the string is valid identifier else returns False.\n",
        "#Sample Input:- 'abc', 'abc1', 'ab1c', '1abc', 'abc$', '_abc', 'if'\n",
        "mymy = input(\"Enter: \")\n",
        "if mymy.isidentifier():\n",
        "  print(\"True\")"
      ],
      "metadata": {
        "colab": {
          "base_uri": "https://localhost:8080/"
        },
        "id": "mmnEhOFltGSY",
        "outputId": "4f0525d7-aad7-4bef-a62a-e0c7603bdac3"
      },
      "execution_count": 2,
      "outputs": [
        {
          "output_type": "stream",
          "name": "stdout",
          "text": [
            "Enter: abc1\n",
            "True\n"
          ]
        }
      ]
    },
    {
      "cell_type": "code",
      "execution_count": 31,
      "metadata": {
        "id": "tAMkSIN84MPe",
        "colab": {
          "base_uri": "https://localhost:8080/"
        },
        "outputId": "57afab23-70c3-476c-90ae-2fdfb7531e24"
      },
      "outputs": [
        {
          "output_type": "stream",
          "name": "stdout",
          "text": [
            "True\n",
            "False\n",
            "False\n",
            "True\n"
          ]
        }
      ],
      "source": [
        "#What will be output of below code?\n",
        "s = chr(65) + chr(97)\n",
        "print(s.isprintable())\n",
        "\n",
        "s = chr(27) + chr(97)\n",
        "print(s.isprintable())\n",
        "\n",
        "s = '\\n'\n",
        "print(s.isprintable())\n",
        "\n",
        "s = ''\n",
        "print(s.isprintable())"
      ]
    },
    {
      "cell_type": "code",
      "execution_count": 33,
      "metadata": {
        "id": "pU9Os0mD4Pk1",
        "colab": {
          "base_uri": "https://localhost:8080/"
        },
        "outputId": "5e42495d-bd35-4cb1-afa2-e6fa6cdafdab"
      },
      "outputs": [
        {
          "output_type": "stream",
          "name": "stdout",
          "text": [
            "True\n",
            "True\n",
            "True\n",
            "True\n",
            "False\n",
            "False\n"
          ]
        }
      ],
      "source": [
        "#What will be output of below code?\n",
        "my_string = '  '\n",
        "print(my_string.isascii())\n",
        "\n",
        "my_string = 'Studytonight'\n",
        "print(my_string.isascii())\n",
        "\n",
        "my_string = 'Study tonight'\n",
        "print(my_string.isascii())\n",
        "\n",
        "my_string = 'Studytonight@123'\n",
        "print(my_string.isascii())\n",
        "\n",
        "my_string = '°'\n",
        "print(my_string.isascii())\n",
        "\n",
        "my_string = 'ö'\n",
        "print(my_string.isascii())"
      ]
    },
    {
      "cell_type": "code",
      "execution_count": 34,
      "metadata": {
        "id": "VsLV8FF74QTB",
        "colab": {
          "base_uri": "https://localhost:8080/"
        },
        "outputId": "0ef99452-e1be-4db0-dcf7-1ce85eb4bcc9"
      },
      "outputs": [
        {
          "output_type": "stream",
          "name": "stdout",
          "text": [
            "The strings are equal.\n"
          ]
        }
      ],
      "source": [
        "#What will be the output of below code?\n",
        "firstString = \"der Fluß\"\n",
        "secondString = \"der Fluss\"\n",
        "\n",
        "if firstString.casefold() == secondString.casefold():\n",
        "    print('The strings are equal.')\n",
        "else:\n",
        "    print('The strings are not equal.')"
      ]
    },
    {
      "cell_type": "code",
      "execution_count": 35,
      "metadata": {
        "id": "1m0U7jLa4Wjf",
        "colab": {
          "base_uri": "https://localhost:8080/"
        },
        "outputId": "87ca8439-7d70-441d-85ca-b89e2a9f4a26"
      },
      "outputs": [
        {
          "output_type": "stream",
          "name": "stdout",
          "text": [
            "python**\n",
            "**python\n",
            "**python**\n"
          ]
        }
      ],
      "source": [
        "#Write the code to get below output\n",
        "inp= \"python\"\n",
        "\n",
        "print(inp.ljust(8, \"*\"))\n",
        "#O/P 1:- python** (using ljust method)\n",
        "\n",
        "\n",
        "#Write the code to get below output\n",
        "print(inp.rjust(8, \"*\"))\n",
        "#O/P 1:- **python (using rjust method)\n",
        "\n",
        "\n",
        "#Write the code to get below output\n",
        "a= inp.ljust(8, \"*\")\n",
        "b = a.rjust(10,'*')\n",
        "print(b)\n",
        "\n",
        "#O/P 1:- **python** (using rjust method)"
      ]
    },
    {
      "cell_type": "code",
      "execution_count": 36,
      "metadata": {
        "id": "cRVkvW6s4YKK",
        "colab": {
          "base_uri": "https://localhost:8080/"
        },
        "outputId": "cc617ed9-1f2e-47ba-fbae-72cbfe7493a8"
      },
      "outputs": [
        {
          "output_type": "stream",
          "name": "stdout",
          "text": [
            "55\n"
          ]
        }
      ],
      "source": [
        "#Write a Python program to find the length of the my_str:-\n",
        "\n",
        "#Input:- 'Write a Python program to find the length of the my_str'\n",
        "#Output:- 55\n",
        "a= 'Write a Python program to find the length of the my_str'\n",
        "print(len(a))"
      ]
    },
    {
      "cell_type": "code",
      "execution_count": 38,
      "metadata": {
        "id": "SjABWI284Zuz",
        "colab": {
          "base_uri": "https://localhost:8080/"
        },
        "outputId": "0abec159-d631-4c79-93d9-038f648537d9"
      },
      "outputs": [
        {
          "output_type": "stream",
          "name": "stdout",
          "text": [
            "9\n"
          ]
        }
      ],
      "source": [
        "#Write a Python program to find the total number of times letter 'p' is appeared in the below string:-\n",
        "\n",
        "#Input:- 'peter piper picked a peck of pickled peppers.'\n",
        "#Output:- 9\n",
        "a= 'peter piper picked a peck of pickled peppers.'\n",
        "print(a.count('p'))\n",
        "\n"
      ]
    },
    {
      "cell_type": "code",
      "execution_count": 39,
      "metadata": {
        "id": "-iZtqbEo4bQp",
        "colab": {
          "base_uri": "https://localhost:8080/"
        },
        "outputId": "c0d6a354-6255-45fa-94ed-35abcd4730cb"
      },
      "outputs": [
        {
          "output_type": "stream",
          "name": "stdout",
          "text": [
            "0\n",
            "6\n",
            "8\n",
            "12\n",
            "21\n",
            "29\n",
            "37\n",
            "39\n",
            "40\n"
          ]
        }
      ],
      "source": [
        "#Write a Python Program, to print all the indexes of all occurences of letter 'p' appeared in the string:-\n",
        "\n",
        "#Input:- 'peter piper picked a peck of pickled peppers.'\n",
        "#Output:-\n",
        "# 0\n",
        "# 6\n",
        "# 8\n",
        "# 12\n",
        "# 21\n",
        "# 29\n",
        "# 37\n",
        "# 39\n",
        "# 40\n",
        "a= 'peter piper picked a peck of pickled peppers.'\n",
        "\n",
        "for i in range(len(a)):\n",
        "  if a[i]=='p':\n",
        "    print(i)\n"
      ]
    },
    {
      "cell_type": "code",
      "execution_count": 40,
      "metadata": {
        "id": "_A8Eu8f84daM",
        "colab": {
          "base_uri": "https://localhost:8080/"
        },
        "outputId": "1bcb7a04-59fc-4b5c-ef0c-201745b2c0e0"
      },
      "outputs": [
        {
          "output_type": "stream",
          "name": "stdout",
          "text": [
            "['peter', 'piper', 'picked', 'a', 'peck', 'of', 'pickled', 'peppers.']\n"
          ]
        }
      ],
      "source": [
        "#Write a python program to find below output:-\n",
        "\n",
        "#Input:- 'peter piper picked a peck of pickled peppers.'\n",
        "#Output:- ['peter', 'piper', 'picked', 'a', 'peck', 'of', 'pickled', 'peppers.']\n",
        "\n",
        "a= 'peter piper picked a peck of pickled peppers.'\n",
        "print(a.strip().split())\n",
        "\n"
      ]
    },
    {
      "cell_type": "code",
      "execution_count": 42,
      "metadata": {
        "id": "juh7tQuL4fNc",
        "colab": {
          "base_uri": "https://localhost:8080/"
        },
        "outputId": "fbdd4e35-c5fc-47df-fc4d-29ca35008bd5"
      },
      "outputs": [
        {
          "output_type": "stream",
          "name": "stdout",
          "text": [
            "['peppers.', 'pickled', 'of', 'peck', 'a', 'picked', 'piper', 'peter']\n"
          ]
        }
      ],
      "source": [
        "#Write a python program to find below output:-\n",
        "\n",
        "#Input:- 'peter piper picked a peck of pickled peppers.'\n",
        "#Output:- 'peppers. pickled of peck a picked piper peter'\n",
        "a= 'peter piper picked a peck of pickled peppers.'\n",
        "new= a.strip().split()\n",
        "\n",
        "print(list(reversed(new)))\n",
        "\n",
        "\n"
      ]
    },
    {
      "cell_type": "code",
      "execution_count": 43,
      "metadata": {
        "id": "aaHQYz194fW7",
        "colab": {
          "base_uri": "https://localhost:8080/"
        },
        "outputId": "880bc133-57c0-421f-e461-b0ec16754014"
      },
      "outputs": [
        {
          "output_type": "stream",
          "name": "stdout",
          "text": [
            "['.sreppep', 'delkcip', 'fo', 'kcep', 'a', 'dekcip', 'repip', 'retep']\n"
          ]
        }
      ],
      "source": [
        "#Write a python program to find below output:-\n",
        "\n",
        "#Input:- 'peter piper picked a peck of pickled peppers.'\n",
        "#Output:- '.sreppep delkcip fo kcep a dekcip repip retep'\n",
        "a= 'peter piper picked a peck of pickled peppers.'\n",
        "new= a.strip().split()\n",
        "\n",
        "new_rev= list(reversed(new))\n",
        "all=[]\n",
        "for i in range(len(new_rev)):\n",
        "  all.append(new_rev[i][::-1])\n",
        "\n",
        "print(all)\n",
        "\n",
        "\n"
      ]
    },
    {
      "cell_type": "code",
      "execution_count": 44,
      "metadata": {
        "id": "LSgj9glC4feI",
        "colab": {
          "base_uri": "https://localhost:8080/"
        },
        "outputId": "d78ac8d7-e64f-49c2-f48a-7bbbe594e9ba"
      },
      "outputs": [
        {
          "output_type": "stream",
          "name": "stdout",
          "text": [
            "['retep', 'repip', 'dekcip', 'a', 'kcep', 'fo', 'delkcip', '.sreppep']\n"
          ]
        }
      ],
      "source": [
        "#Write a python program to find below output:-\n",
        "\n",
        "#Input:- 'peter piper picked a peck of pickled peppers.'\n",
        "#Output:- 'retep repip dekcip a kcep fo delkcip .sreppep'\n",
        "\n",
        "a= 'peter piper picked a peck of pickled peppers.'\n",
        "new= a.strip().split()\n",
        "\n",
        "all=[]\n",
        "for i in range(len(new)):\n",
        "  all.append(new[i][::-1])\n",
        "\n",
        "print(all)\n"
      ]
    },
    {
      "cell_type": "code",
      "execution_count": 45,
      "metadata": {
        "id": "WUxPAkY94foo",
        "colab": {
          "base_uri": "https://localhost:8080/"
        },
        "outputId": "d9d424fc-5a88-45f9-b3ff-ea89e8a620b7"
      },
      "outputs": [
        {
          "output_type": "stream",
          "name": "stdout",
          "text": [
            "['Peter', 'Piper', 'Picked', 'A', 'Peck', 'Of', 'Pickled', 'Peppers.']\n"
          ]
        }
      ],
      "source": [
        "#Write a python program to find below output:-\n",
        "\n",
        "#Input:- 'peter piper picked a peck of pickled peppers.'\n",
        "#Output:- 'Peter Piper Picked A Peck Of Pickled Peppers.'\n",
        "\n",
        "a= 'peter piper picked a peck of pickled peppers.'\n",
        "new= a.strip().split()\n",
        "all=[]\n",
        "for i in range(len(new)):\n",
        "  all.append(new[i].capitalize())\n",
        "print(all)"
      ]
    },
    {
      "cell_type": "code",
      "execution_count": 46,
      "metadata": {
        "id": "IT1NSPxA4mww",
        "colab": {
          "base_uri": "https://localhost:8080/"
        },
        "outputId": "13a917e3-b569-43f7-f024-edb44ec3fe86"
      },
      "outputs": [
        {
          "output_type": "stream",
          "name": "stdout",
          "text": [
            "['Peter', 'piper', 'picked', 'a', 'peck', 'of', 'pickled', 'peppers.']\n"
          ]
        }
      ],
      "source": [
        "#Write a python program to find below output:-\n",
        "\n",
        "#Input:- 'Peter Piper Picked A Peck Of Pickled Peppers.'\n",
        "#Output:- 'Peter piper picked a peck of pickled peppers.'\n",
        "a= 'Peter Piper Picked A Peck Of Pickled Peppers.'\n",
        "new= a.strip().split()\n",
        "all=[]\n",
        "all.append(new[0])\n",
        "for i in range(1, len(new)):\n",
        "  all.append(new[i].lower())\n",
        "print(all)\n",
        "\n"
      ]
    },
    {
      "cell_type": "code",
      "execution_count": 47,
      "metadata": {
        "id": "3Gg65vSc4m3C",
        "colab": {
          "base_uri": "https://localhost:8080/"
        },
        "outputId": "ae97c16a-e086-44c2-ed07-0ed09c383e7a"
      },
      "outputs": [
        {
          "output_type": "stream",
          "name": "stdout",
          "text": [
            "29\n"
          ]
        }
      ],
      "source": [
        "#Write a python program to implement index method. If sub_str is found in my_str then it will print the index\n",
        "# of first occurrence of first character of matching string in my_str:-\n",
        "\n",
        "#Input:- my_str = 'Peter Piper Picked A Peck Of Pickled Peppers.', sub_str = 'Pickl'\n",
        "#Output:- 29\n",
        "my_str = 'Peter Piper Picked A Peck Of Pickled Peppers.'\n",
        "sub_str = 'Pickl'\n",
        "\n",
        "print(my_str.find(sub_str))\n",
        "\n"
      ]
    },
    {
      "cell_type": "code",
      "execution_count": 48,
      "metadata": {
        "id": "iFRhp_JI4m6k",
        "colab": {
          "base_uri": "https://localhost:8080/"
        },
        "outputId": "a4add5d0-000d-4544-8251-084ceccc6937"
      },
      "outputs": [
        {
          "output_type": "stream",
          "name": "stdout",
          "text": [
            "Peter Piper Picked A Pack Of Pickled Peppers.\n"
          ]
        }
      ],
      "source": [
        "#Write a python program to implement replace method. If sub_str is found in my_str then it will replace the first\n",
        "#occurrence of sub_str with new_str else it will will print sub_str not found:-\n",
        "\n",
        "#Input:- my_str = 'Peter Piper Picked A Peck Of Pickled Peppers.', sub_str = 'Peck', new_str = 'Pack'\n",
        "#Output:- 'Peter Piper Picked A Pack Of Pickled Peppers.'\n",
        "my_str = 'Peter Piper Picked A Peck Of Pickled Peppers.'\n",
        "sub_str = 'Peck'\n",
        "new_str = 'Pack'\n",
        "print(my_str.replace(sub_str,new_str))\n",
        "\n"
      ]
    },
    {
      "cell_type": "code",
      "execution_count": 54,
      "metadata": {
        "id": "dQ9YhBBc4m9V",
        "colab": {
          "base_uri": "https://localhost:8080/"
        },
        "outputId": "d150345f-23d9-4c8f-dacf-9ae36f731b91"
      },
      "outputs": [
        {
          "output_type": "stream",
          "name": "stdout",
          "text": [
            "*****************Peck*********************\n"
          ]
        }
      ],
      "source": [
        "#Write a python program to find below output (implements rjust and ljust):-\n",
        "\n",
        "#Input:- 'Peter Piper Picked A Peck Of Pickled Peppers.', sub_str = 'Peck',\n",
        "#Output:- '*********************Peck********************'\n",
        "\n",
        "a= 'Peter Piper Picked A Peck Of Pickled Peppers.'\n",
        "sub_str = 'Peck'\n",
        "new= sub_str.rjust(21,\"*\").ljust(42,'*')\n",
        "print(new)"
      ]
    },
    {
      "cell_type": "code",
      "execution_count": null,
      "metadata": {
        "id": "w37BRLdt4tYT"
      },
      "outputs": [],
      "source": []
    },
    {
      "cell_type": "code",
      "execution_count": null,
      "metadata": {
        "id": "W64gCpeu4vaF"
      },
      "outputs": [],
      "source": []
    }
  ],
  "metadata": {
    "colab": {
      "provenance": [],
      "include_colab_link": true
    },
    "kernelspec": {
      "display_name": "Python 3",
      "language": "python",
      "name": "python3"
    },
    "language_info": {
      "codemirror_mode": {
        "name": "ipython",
        "version": 3
      },
      "file_extension": ".py",
      "mimetype": "text/x-python",
      "name": "python",
      "nbconvert_exporter": "python",
      "pygments_lexer": "ipython3",
      "version": "3.8.2"
    },
    "latex_envs": {
      "LaTeX_envs_menu_present": true,
      "autoclose": false,
      "autocomplete": true,
      "bibliofile": "biblio.bib",
      "cite_by": "apalike",
      "current_citInitial": 1,
      "eqLabelWithNumbers": true,
      "eqNumInitial": 1,
      "hotkeys": {
        "equation": "Ctrl-E",
        "itemize": "Ctrl-I"
      },
      "labels_anchors": false,
      "latex_user_defs": false,
      "report_style_numbering": false,
      "user_envs_cfg": false
    },
    "varInspector": {
      "cols": {
        "lenName": 16,
        "lenType": 16,
        "lenVar": 40
      },
      "kernels_config": {
        "python": {
          "delete_cmd_postfix": "",
          "delete_cmd_prefix": "del ",
          "library": "var_list.py",
          "varRefreshCmd": "print(var_dic_list())"
        },
        "r": {
          "delete_cmd_postfix": ") ",
          "delete_cmd_prefix": "rm(",
          "library": "var_list.r",
          "varRefreshCmd": "cat(var_dic_list()) "
        }
      },
      "types_to_exclude": [
        "module",
        "function",
        "builtin_function_or_method",
        "instance",
        "_Feature"
      ],
      "window_display": false
    }
  },
  "nbformat": 4,
  "nbformat_minor": 0
}